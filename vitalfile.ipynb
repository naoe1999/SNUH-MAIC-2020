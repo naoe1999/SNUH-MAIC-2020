{
  "nbformat": 4,
  "nbformat_minor": 0,
  "metadata": {
    "colab": {
      "name": "vitalfile.ipynb",
      "provenance": [],
      "toc_visible": true,
      "authorship_tag": "ABX9TyOZes0R0SX1+K11VFYBtA8a",
      "include_colab_link": true
    },
    "kernelspec": {
      "name": "python3",
      "display_name": "Python 3"
    }
  },
  "cells": [
    {
      "cell_type": "markdown",
      "metadata": {
        "id": "view-in-github",
        "colab_type": "text"
      },
      "source": [
        "<a href=\"https://colab.research.google.com/github/vitaldb/maic2020/blob/master/vitalfile.ipynb\" target=\"_parent\"><img src=\"https://colab.research.google.com/assets/colab-badge.svg\" alt=\"Open In Colab\"/></a>"
      ]
    },
    {
      "cell_type": "markdown",
      "metadata": {
        "id": "X2COxMJNUxIh",
        "colab_type": "text"
      },
      "source": [
        "# Vital 파일 다루기\n",
        "본 실습에서는 Vital Recorder 에서 생성한 Vital 파일을 파이선으로 읽어오는 방법을 배워봅니다."
      ]
    },
    {
      "cell_type": "markdown",
      "metadata": {
        "id": "0pAlf-93XLo9",
        "colab_type": "text"
      },
      "source": [
        "## 샘플 파일 다운로드\n",
        "아래 코드를 실행하여 vitaldb 의 샘플 vital 파일을 다운로드 합니다."
      ]
    },
    {
      "cell_type": "code",
      "metadata": {
        "id": "jK_-H6WtUz_9",
        "colab_type": "code",
        "colab": {
          "base_uri": "https://localhost:8080/",
          "height": 407
        },
        "outputId": "08d129c5-e6a4-4cf2-8ad6-97ef552422d0"
      },
      "source": [
        "!wget https://vitaldb.net/samples/00001.vital\n",
        "!wget https://vitaldb.net/samples/00002.vital"
      ],
      "execution_count": 3,
      "outputs": [
        {
          "output_type": "stream",
          "text": [
            "--2020-09-11 13:31:52--  https://vitaldb.net/samples/00001.vital\n",
            "Resolving vitaldb.net (vitaldb.net)... 3.34.34.235, 13.124.219.140\n",
            "Connecting to vitaldb.net (vitaldb.net)|3.34.34.235|:443... connected.\n",
            "HTTP request sent, awaiting response... 200 OK\n",
            "Length: 21369609 (20M) [application/octet-stream]\n",
            "Saving to: ‘00001.vital.1’\n",
            "\n",
            "00001.vital.1       100%[===================>]  20.38M  23.7MB/s    in 0.9s    \n",
            "\n",
            "2020-09-11 13:31:53 (23.7 MB/s) - ‘00001.vital.1’ saved [21369609/21369609]\n",
            "\n",
            "--2020-09-11 13:31:53--  https://vitaldb.net/samples/00002.vital\n",
            "Resolving vitaldb.net (vitaldb.net)... 13.124.219.140, 3.34.34.235\n",
            "Connecting to vitaldb.net (vitaldb.net)|13.124.219.140|:443... connected.\n",
            "HTTP request sent, awaiting response... 200 OK\n",
            "Length: 26494848 (25M) [application/octet-stream]\n",
            "Saving to: ‘00002.vital.1’\n",
            "\n",
            "00002.vital.1       100%[===================>]  25.27M  20.3MB/s    in 1.2s    \n",
            "\n",
            "2020-09-11 13:31:55 (20.3 MB/s) - ‘00002.vital.1’ saved [26494848/26494848]\n",
            "\n"
          ],
          "name": "stdout"
        }
      ]
    },
    {
      "cell_type": "markdown",
      "metadata": {
        "id": "Yz6rZEtHVQwG",
        "colab_type": "text"
      },
      "source": [
        "## vital 파일을 읽기 위한 라이브러리 다운로드 및 import\n",
        "github에 공개된 vitalutils 코드 중 vital 파일을 읽기 위한 vitalfile 모듈을 읽어옵니다."
      ]
    },
    {
      "cell_type": "code",
      "metadata": {
        "id": "kUNWEjj6Vh1L",
        "colab_type": "code",
        "colab": {
          "base_uri": "https://localhost:8080/",
          "height": 212
        },
        "outputId": "5bfc9719-c314-470f-e68d-ba1e0a00abbf"
      },
      "source": [
        "!wget https://raw.githubusercontent.com/vitaldb/vitalutils/master/python/vitalfile.py\n",
        "\n",
        "from vitalfile import VitalFile"
      ],
      "execution_count": 12,
      "outputs": [
        {
          "output_type": "stream",
          "text": [
            "--2020-09-11 13:36:38--  https://raw.githubusercontent.com/vitaldb/vitalutils/master/python/vitalfile.py\n",
            "Resolving raw.githubusercontent.com (raw.githubusercontent.com)... 151.101.0.133, 151.101.64.133, 151.101.128.133, ...\n",
            "Connecting to raw.githubusercontent.com (raw.githubusercontent.com)|151.101.0.133|:443... connected.\n",
            "HTTP request sent, awaiting response... 200 OK\n",
            "Length: 11660 (11K) [text/plain]\n",
            "Saving to: ‘vitalfile.py’\n",
            "\n",
            "\rvitalfile.py          0%[                    ]       0  --.-KB/s               \rvitalfile.py        100%[===================>]  11.39K  --.-KB/s    in 0s      \n",
            "\n",
            "2020-09-11 13:36:38 (89.2 MB/s) - ‘vitalfile.py’ saved [11660/11660]\n",
            "\n"
          ],
          "name": "stdout"
        }
      ]
    },
    {
      "cell_type": "markdown",
      "metadata": {
        "id": "XARQ3Zs1WVE7",
        "colab_type": "text"
      },
      "source": [
        "VitalFile 클래스를 이용하여 vital 파일을 읽어옵니다."
      ]
    },
    {
      "cell_type": "code",
      "metadata": {
        "id": "FS-_Ey9XWnX0",
        "colab_type": "code",
        "colab": {
          "base_uri": "https://localhost:8080/",
          "height": 336
        },
        "outputId": "6852c75a-97ac-40c4-e349-2489b2e1ed88"
      },
      "source": [
        "vf = VitalFile(\"00001.vital\")\n",
        "vals = vf.get_samples(\"ECG\")"
      ],
      "execution_count": 10,
      "outputs": [
        {
          "output_type": "error",
          "ename": "NameError",
          "evalue": "ignored",
          "traceback": [
            "\u001b[0;31m---------------------------------------------------------------------------\u001b[0m",
            "\u001b[0;31mNameError\u001b[0m                                 Traceback (most recent call last)",
            "\u001b[0;32m<ipython-input-10-56b2ad99f498>\u001b[0m in \u001b[0;36m<module>\u001b[0;34m()\u001b[0m\n\u001b[0;32m----> 1\u001b[0;31m \u001b[0mvf\u001b[0m \u001b[0;34m=\u001b[0m \u001b[0mVitalFile\u001b[0m\u001b[0;34m(\u001b[0m\u001b[0;34m\"00001.vital\"\u001b[0m\u001b[0;34m)\u001b[0m\u001b[0;34m\u001b[0m\u001b[0;34m\u001b[0m\u001b[0m\n\u001b[0m\u001b[1;32m      2\u001b[0m \u001b[0mvals\u001b[0m \u001b[0;34m=\u001b[0m \u001b[0mvf\u001b[0m\u001b[0;34m.\u001b[0m\u001b[0mget_samples\u001b[0m\u001b[0;34m(\u001b[0m\u001b[0;34m\"ECG\"\u001b[0m\u001b[0;34m)\u001b[0m\u001b[0;34m\u001b[0m\u001b[0;34m\u001b[0m\u001b[0m\n",
            "\u001b[0;32m/content/vitalfile.py\u001b[0m in \u001b[0;36m__init__\u001b[0;34m(self, ipath, sels)\u001b[0m\n\u001b[1;32m     54\u001b[0m \u001b[0;32mclass\u001b[0m \u001b[0mVitalFile\u001b[0m\u001b[0;34m:\u001b[0m\u001b[0;34m\u001b[0m\u001b[0;34m\u001b[0m\u001b[0m\n\u001b[1;32m     55\u001b[0m     \u001b[0;32mdef\u001b[0m \u001b[0m__init__\u001b[0m\u001b[0;34m(\u001b[0m\u001b[0mself\u001b[0m\u001b[0;34m,\u001b[0m \u001b[0mipath\u001b[0m\u001b[0;34m,\u001b[0m \u001b[0msels\u001b[0m\u001b[0;34m=\u001b[0m\u001b[0;32mNone\u001b[0m\u001b[0;34m)\u001b[0m\u001b[0;34m:\u001b[0m\u001b[0;34m\u001b[0m\u001b[0;34m\u001b[0m\u001b[0m\n\u001b[0;32m---> 56\u001b[0;31m         \u001b[0mself\u001b[0m\u001b[0;34m.\u001b[0m\u001b[0mload_vital\u001b[0m\u001b[0;34m(\u001b[0m\u001b[0mipath\u001b[0m\u001b[0;34m,\u001b[0m \u001b[0msels\u001b[0m\u001b[0;34m)\u001b[0m\u001b[0;34m\u001b[0m\u001b[0;34m\u001b[0m\u001b[0m\n\u001b[0m\u001b[1;32m     57\u001b[0m \u001b[0;34m\u001b[0m\u001b[0m\n\u001b[1;32m     58\u001b[0m     \u001b[0;32mdef\u001b[0m \u001b[0mcrop\u001b[0m\u001b[0;34m(\u001b[0m\u001b[0mself\u001b[0m\u001b[0;34m,\u001b[0m \u001b[0;34m)\u001b[0m\u001b[0;34m:\u001b[0m\u001b[0;34m\u001b[0m\u001b[0;34m\u001b[0m\u001b[0m\n",
            "\u001b[0;32m/content/vitalfile.py\u001b[0m in \u001b[0;36mload_vital\u001b[0;34m(self, ipath, sels)\u001b[0m\n\u001b[1;32m    249\u001b[0m                     self.trks[tid] = {'name': name, 'type': type, 'fmt': fmt, 'unit': unit, 'srate': srate,\n\u001b[1;32m    250\u001b[0m                                       \u001b[0;34m'mindisp'\u001b[0m\u001b[0;34m:\u001b[0m \u001b[0mmindisp\u001b[0m\u001b[0;34m,\u001b[0m \u001b[0;34m'maxdisp'\u001b[0m\u001b[0;34m:\u001b[0m \u001b[0mmaxdisp\u001b[0m\u001b[0;34m,\u001b[0m \u001b[0;34m'col'\u001b[0m\u001b[0;34m:\u001b[0m \u001b[0mcol\u001b[0m\u001b[0;34m,\u001b[0m \u001b[0;34m'montype'\u001b[0m\u001b[0;34m:\u001b[0m \u001b[0mmontype\u001b[0m\u001b[0;34m,\u001b[0m\u001b[0;34m\u001b[0m\u001b[0;34m\u001b[0m\u001b[0m\n\u001b[0;32m--> 251\u001b[0;31m                                       'gain': gain, 'offset': offset, 'did': did, 'recs': vector('list')}\n\u001b[0m\u001b[1;32m    252\u001b[0m                 \u001b[0;32melif\u001b[0m \u001b[0mtype\u001b[0m \u001b[0;34m==\u001b[0m \u001b[0;36m1\u001b[0m\u001b[0;34m:\u001b[0m  \u001b[0;31m# rec\u001b[0m\u001b[0;34m\u001b[0m\u001b[0;34m\u001b[0m\u001b[0m\n\u001b[1;32m    253\u001b[0m                     \u001b[0minfolen\u001b[0m \u001b[0;34m=\u001b[0m \u001b[0munpack_w\u001b[0m\u001b[0;34m(\u001b[0m\u001b[0mbuf\u001b[0m\u001b[0;34m,\u001b[0m \u001b[0mpos\u001b[0m\u001b[0;34m)\u001b[0m\u001b[0;34m[\u001b[0m\u001b[0;36m0\u001b[0m\u001b[0;34m]\u001b[0m\u001b[0;34m;\u001b[0m \u001b[0mpos\u001b[0m \u001b[0;34m+=\u001b[0m \u001b[0;36m2\u001b[0m\u001b[0;34m\u001b[0m\u001b[0;34m\u001b[0m\u001b[0m\n",
            "\u001b[0;31mNameError\u001b[0m: name 'vector' is not defined"
          ]
        }
      ]
    }
  ]
}